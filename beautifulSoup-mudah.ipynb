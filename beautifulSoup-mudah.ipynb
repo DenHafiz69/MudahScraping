{
 "cells": [
  {
   "cell_type": "code",
   "execution_count": null,
   "metadata": {},
   "outputs": [],
   "source": [
    "from bs4 import BeautifulSoup\n",
    "import requests\n",
    "import pandas as pd\n",
    "import matplotlib.pyplot as plt\n",
    "import numpy as np\n",
    "\n",
    "from csv import writer"
   ]
  },
  {
   "cell_type": "code",
   "execution_count": null,
   "metadata": {},
   "outputs": [],
   "source": [
    "# function to change url to next page\n",
    "\n",
    "def url_func(page):\n",
    "  return \"https://www.mudah.my/kuala-lumpur/apartment-condominium-for-rent?o=\" + page"
   ]
  },
  {
   "cell_type": "code",
   "execution_count": null,
   "metadata": {},
   "outputs": [],
   "source": [
    "# definition of classes in case it does not work again, need to change here\n",
    "\n",
    "main_class = \"sc-cQFLBn jkvPib\"\n",
    "title_class = \"sc-fYiAbW infEfr\"\n",
    "price_class = \"sc-gHboQg jzKDEN\"\n",
    "location_class = \"sc-gqPbQI jcysAz\"\n",
    "outer_class = \"sc-eerKOB kYoUWg\"\n",
    "inner_class = \"sc-emmjRN jodtUm\""
   ]
  },
  {
   "cell_type": "code",
   "execution_count": null,
   "metadata": {},
   "outputs": [],
   "source": [
    "with open('housing.csv', 'w', encoding='utf8', newline='') as f:\n",
    "\n",
    "  thewriter = writer(f)\n",
    "  header =['Title', 'Price', 'Location', 'Size', 'Bedroom']\n",
    "\n",
    "  thewriter.writerow(header)\n",
    "\n",
    "  for reps in range(1, 20):\n",
    "\n",
    "    url = url_func(str(reps))\n",
    "    page = requests.get(url)\n",
    "\n",
    "    soup = BeautifulSoup(page.content, 'html.parser')\n",
    "    lists = soup.find_all('div', {\"class\": main_class})\n",
    "\n",
    "    for i in lists:\n",
    "\n",
    "      title = i.find('a', {\"class\": title_class}).text\n",
    "      price = i.find('div', {\"class\": price_class}).text\n",
    "      location = i.find('span', {\"class\": location_class}).text\n",
    "      sqft = i.find('div', {\"class\": outer_class}).find('div', {\"class\": inner_class, \"title\": \"Size\"}).text\n",
    "      bedroom = i.find('div', {\"class\": outer_class}).find('div', {\"class\": inner_class, \"title\": \"Bedrooms\"}).text\n",
    "\n",
    "      info = [title, price, location, sqft, bedroom]\n",
    "\n",
    "      thewriter.writerow(info)"
   ]
  }
 ],
 "metadata": {
  "language_info": {
   "name": "python"
  },
  "orig_nbformat": 4
 },
 "nbformat": 4,
 "nbformat_minor": 2
}
